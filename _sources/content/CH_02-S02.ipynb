{
 "cells": [
  {
   "cell_type": "markdown",
   "id": "5e801131",
   "metadata": {},
   "source": [
    "# Apuntadores y arreglos\n",
    "\n",
    "```{admonition} Objetivos\n",
    "* Conocer y utilizar los apuntadores para el uso eficiente de la memoria.\n",
    "* Presentar el uso de las funciones y establecer cómo se realiza el paso de parámetros a funciones.\n",
    "* Conocer y aplicar el concepto de arreglos de una y más dimensiones en la resolución de problemas mediante algoritmos.\n",
    "* Conocer cómo es posible asignar de forma eficiente espacio en memoria.\n",
    "```\n",
    "\n",
    "## 1. Conceptos previos - ¿Que sucede cuando se declara una variable?\n",
    "Cuando una variable se declara esta pasa a ocupar un lugar de memoria cuyo tamaño dependerá del número de bytes asociados al tipo de dato con el cual esta se declara. Suponiendo que se tienen las siguientes instrucciones en C:\n",
    "\n",
    "```{code-block} c\n",
    "int i;\n",
    "i = 35;\n",
    "```\n",
    "\n",
    "La siguiente figura ilustra su representación en memoria:\n",
    "\n",
    "```{figure} ./local/img/CH_02-S02-fig1.png\n",
    "Representación de una variable en memoria.\n",
    "```\n",
    "\n",
    "\n",
    "\n",
    "\n",
    "Desde el punto de vista del mapa de memoria y suponiendo que una variable tipo int ocupa 4 bytes tenemos el siguiente resultado por instrucción:\n",
    "\n",
    "<table>\n",
    "<tbody>\n",
    "<tr>\n",
    "<td>&nbsp;Instrucción</td>\n",
    "<td>Representación en&nbsp;memoria&nbsp;</td>\n",
    "</tr>\n",
    "<tr>\n",
    "<td>int i;</td>\n",
    "<td><img src=\"https://github.com/repos-SO-UdeA/laboratorios/blob/master/lab1/teoria/parte2/imagenes/rep_mapa_inst1.png?raw=true\" alt=\"var_mm1\"></td>\n",
    "</tr>\n",
    "<tr>\n",
    "<td>i = 35;</td>\n",
    "<td><img src=\"https://github.com/repos-SO-UdeA/laboratorios/blob/master/lab1/teoria/parte2/imagenes/rep_mapa_inst2.png?raw=true\" alt=\"var_mm2\"></td>\n",
    "</tr>\n",
    "</tbody>\n",
    "</table>\n",
    "\n",
    "Como se puede ver en la figura anterior, lo que se modifica cuando se hace manipulación sobre variables es el contenido almacenado en un lugar especifico de memoria. Entender esto es de vital importancia para manejar el próximo tema.\n",
    "\n",
    "\n",
    "## An example cell\n",
    "\n",
    "With MyST Markdown, you can define code cells with a directive like so:"
   ]
  },
  {
   "cell_type": "code",
   "execution_count": null,
   "id": "53e63aab",
   "metadata": {},
   "outputs": [],
   "source": [
    "print(2 + 2)"
   ]
  },
  {
   "cell_type": "markdown",
   "id": "804cdc8a",
   "metadata": {},
   "source": [
    "When your book is built, the contents of any `{code-cell}` blocks will be\n",
    "executed with your default Jupyter kernel, and their outputs will be displayed\n",
    "in-line with the rest of your content.\n",
    "\n",
    "```{seealso}\n",
    "Jupyter Book uses [Jupytext](https://jupytext.readthedocs.io/en/latest/) to convert text-based files to notebooks, and can support [many other text-based notebook files](https://jupyterbook.org/file-types/jupytext.html).\n",
    "```\n",
    "\n",
    "## Create a notebook with MyST Markdown\n",
    "\n",
    "MyST Markdown notebooks are defined by two things:\n",
    "\n",
    "1. YAML metadata that is needed to understand if / how it should convert text files to notebooks (including information about the kernel needed).\n",
    "   See the YAML at the top of this page for example.\n",
    "2. The presence of `{code-cell}` directives, which will be executed with your book.\n",
    "\n",
    "That's all that is needed to get started!\n",
    "\n",
    "## Quickly add YAML metadata for MyST Notebooks\n",
    "\n",
    "If you have a markdown file and you'd like to quickly add YAML metadata to it, so that Jupyter Book will treat it as a MyST Markdown Notebook, run the following command:\n",
    "\n",
    "```\n",
    "jupyter-book myst init path/to/markdownfile.md\n",
    "```"
   ]
  }
 ],
 "metadata": {
  "jupytext": {
   "cell_metadata_filter": "-all",
   "formats": "md:myst",
   "text_representation": {
    "extension": ".md",
    "format_name": "myst",
    "format_version": 0.13,
    "jupytext_version": "1.11.5"
   }
  },
  "kernelspec": {
   "display_name": "Python 3",
   "language": "python",
   "name": "python3"
  },
  "source_map": [
   14,
   68,
   70
  ]
 },
 "nbformat": 4,
 "nbformat_minor": 5
}